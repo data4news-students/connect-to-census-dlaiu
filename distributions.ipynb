{
 "cells": [
  {
   "attachments": {},
   "cell_type": "markdown",
   "metadata": {},
   "source": [
    "# 1-D Exploratory Data Analysis\n",
    "\n",
    "In this notebook, do some EDA in one dimension. Pick a column  (or a set of columns) you're interested in looking at. Calculate some summary statistics (like mean,median,min,max,sd). Then, make some plots to visualize the distribution of the data. Distirbution plots include things like histograms, boxplots, dotplots, beeswarms, and violin plots. Review [ggplot-intro](https://github.com/data4news/ggplot-intro) for examples of these kinds of distribution plots."
   ]
  },
  {
   "attachments": {},
   "cell_type": "markdown",
   "metadata": {},
   "source": [
    "### Standard Python and R imports"
   ]
  },
  {
   "cell_type": "code",
   "execution_count": 1,
   "metadata": {},
   "outputs": [
    {
     "name": "stderr",
     "output_type": "stream",
     "text": [
      "During startup - Warning messages:\n",
      "1: Setting LC_COLLATE failed, using \"C\" \n",
      "2: Setting LC_TIME failed, using \"C\" \n",
      "3: Setting LC_MESSAGES failed, using \"C\" \n",
      "4: Setting LC_MONETARY failed, using \"C\" \n"
     ]
    }
   ],
   "source": [
    "%load_ext rpy2.ipython\n",
    "%load_ext autoreload\n",
    "%autoreload 2\n",
    "\n",
    "%matplotlib inline  \n",
    "from matplotlib import rcParams\n",
    "rcParams['figure.figsize'] = (16, 100)\n",
    "\n",
    "import warnings\n",
    "from rpy2.rinterface import RRuntimeWarning\n",
    "warnings.filterwarnings(\"ignore\") # Ignore all warnings\n",
    "# warnings.filterwarnings(\"ignore\", category=RRuntimeWarning) # Show some warnings\n",
    "\n",
    "import pandas as pd\n",
    "import numpy as np\n",
    "import matplotlib.pyplot as plt\n",
    "from IPython.display import display, HTML"
   ]
  },
  {
   "cell_type": "code",
   "execution_count": 2,
   "metadata": {},
   "outputs": [
    {
     "data": {
      "application/javascript": "// Disable auto-scrolling\nIPython.OutputArea.prototype._should_scroll = function(lines) {\n    return false;\n}\n",
      "text/plain": [
       "<IPython.core.display.Javascript object>"
      ]
     },
     "metadata": {},
     "output_type": "display_data"
    }
   ],
   "source": [
    "%%javascript\n",
    "// Disable auto-scrolling\n",
    "IPython.OutputArea.prototype._should_scroll = function(lines) {\n",
    "    return false;\n",
    "}"
   ]
  },
  {
   "cell_type": "code",
   "execution_count": 3,
   "metadata": {},
   "outputs": [
    {
     "name": "stdout",
     "output_type": "stream",
     "text": [
      "── Attaching core tidyverse packages ──────────────────────── tidyverse 2.0.0 ──\n",
      "✔ dplyr     1.1.4     ✔ readr     2.1.5\n",
      "✔ forcats   1.0.0     ✔ stringr   1.5.1\n",
      "✔ ggplot2   3.4.4     ✔ tibble    3.2.1\n",
      "✔ lubridate 1.9.3     ✔ tidyr     1.3.0\n",
      "✔ purrr     1.0.2     \n",
      "── Conflicts ────────────────────────────────────────── tidyverse_conflicts() ──\n",
      "✖ dplyr::filter() masks stats::filter()\n",
      "✖ dplyr::lag()    masks stats::lag()\n",
      "ℹ Use the conflicted package (<http://conflicted.r-lib.org/>) to force all conflicts to become errors\n"
     ]
    },
    {
     "data": {
      "text/plain": [
       "Loading required package: tidyverse\n"
      ]
     },
     "metadata": {},
     "output_type": "display_data"
    }
   ],
   "source": [
    "%%R\n",
    "\n",
    "# My commonly used R imports\n",
    "\n",
    "require('tidyverse')"
   ]
  },
  {
   "attachments": {},
   "cell_type": "markdown",
   "metadata": {},
   "source": [
    "## Load the data"
   ]
  },
  {
   "cell_type": "code",
   "execution_count": 4,
   "metadata": {},
   "outputs": [
    {
     "name": "stdout",
     "output_type": "stream",
     "text": [
      "# A tibble: 4 × 15\n",
      "  LOCAL.HEALTH.UNIT OPERATION.NAME      CITY     STATE   ZIP MUNICIPALITY COUNTY\n",
      "  <chr>             <chr>               <chr>    <chr> <dbl> <chr>        <chr> \n",
      "1 NYC               2918 GAS CORP       BRONX    NY    10469 BRONX        NEW Y…\n",
      "2 NYC               SHISHA KING CORP    BROOKLYN NY    11207 BROOKLYN     NEW Y…\n",
      "3 NYC               TUNI'S SERVICE CORP BROOKLYN NY    11215 BROOKLYN     NEW Y…\n",
      "4 NYC               VISHWA NEWS, INC.   BROOKLYN NY    11201 BROOKLYN     NEW Y…\n",
      "# ℹ 8 more variables: VENDOR.TYPE <chr>, CREATION.DATE <chr>, LOCATION <chr>,\n",
      "#   LAT <dbl>, LONG <dbl>, ADDRESS <chr>, census_code <dbl>, census_tract <chr>\n"
     ]
    }
   ],
   "source": [
    "%%R\n",
    " \n",
    "# Import data with R\n",
    "df <- read_csv('active_tobacco_retailer_map_correct_cleaned_with_census.csv', show_col_types = FALSE)\n",
    "df %>% head(4)"
   ]
  },
  {
   "cell_type": "code",
   "execution_count": null,
   "metadata": {},
   "outputs": [],
   "source": []
  },
  {
   "cell_type": "code",
   "execution_count": null,
   "metadata": {},
   "outputs": [],
   "source": []
  },
  {
   "attachments": {},
   "cell_type": "markdown",
   "metadata": {},
   "source": [
    "## Summary statistics\n",
    "\n",
    "Pick a column or set of columns and calculate some summary statistics (like mean,median,min,max,sd).\n",
    "Hint, you may want to use `group_by` and `summarize`.\n",
    "\n"
   ]
  },
  {
   "cell_type": "code",
   "execution_count": 5,
   "metadata": {},
   "outputs": [
    {
     "name": "stdout",
     "output_type": "stream",
     "text": [
      "# A tibble: 6 × 2\n",
      "  MUNICIPALITY      n\n",
      "  <chr>         <int>\n",
      "1 BROOKLYN       2027\n",
      "2 QUEENS         1552\n",
      "3 BRONX          1188\n",
      "4 STATEN ISLAND   344\n",
      "5 NEW YORK CITY   323\n",
      "6 QUEENSBURY       35\n"
     ]
    }
   ],
   "source": [
    "%%R \n",
    "\n",
    "# code for summary statistics\n",
    "# count the number of entries in each MUNICIPALITY\n",
    "df %>% \n",
    "  group_by(MUNICIPALITY) %>% \n",
    "  summarise(n = n()) %>% \n",
    "  arrange(desc(n)) \n"
   ]
  },
  {
   "cell_type": "code",
   "execution_count": 6,
   "metadata": {},
   "outputs": [
    {
     "name": "stdout",
     "output_type": "stream",
     "text": [
      "# A tibble: 5,434 × 15\n",
      "   LOCAL.HEALTH.UNIT OPERATION.NAME        CITY  STATE   ZIP MUNICIPALITY COUNTY\n",
      "   <chr>             <chr>                 <chr> <chr> <dbl> <chr>        <chr> \n",
      " 1 NYC               2918 GAS CORP         BRONX NY    10469 BRONX        NEW Y…\n",
      " 2 NYC               SHISHA KING CORP      BROO… NY    11207 BROOKLYN     NEW Y…\n",
      " 3 NYC               TUNI'S SERVICE CORP   BROO… NY    11215 BROOKLYN     NEW Y…\n",
      " 4 NYC               VISHWA NEWS, INC.     BROO… NY    11201 BROOKLYN     NEW Y…\n",
      " 5 NYC               JAMAST HOLDING CORP   FLUS… NY    11358 QUEENS       NEW Y…\n",
      " 6 NYC               60 ST SMOKE SHOP      BROO… NY    11220 BROOKLYN     NEW Y…\n",
      " 7 NYC               DELI GRILL VAPE AND … BROO… NY    11226 BROOKLYN     NEW Y…\n",
      " 8 NYC               37 SMOKE SHOP INC     MANH… NY    10018 NEW YORK CI… NEW Y…\n",
      " 9 NYC               YESENIA A. RODRIGUEZ… BROO… NY    11237 BROOKLYN     NEW Y…\n",
      "10 NYC               GNP SUNIL CORP        BRONX NY    10463 BRONX        NEW Y…\n",
      "# ℹ 5,424 more rows\n",
      "# ℹ 8 more variables: VENDOR.TYPE <chr>, CREATION.DATE <chr>, LOCATION <chr>,\n",
      "#   LAT <dbl>, LONG <dbl>, ADDRESS <chr>, census_code <dbl>, census_tract <chr>\n",
      "# ℹ Use `print(n = ...)` to see more rows\n"
     ]
    }
   ],
   "source": [
    "%%R\n",
    "\n",
    "# remove rows with MUNICIPALITY = QUEENSBURY\n",
    "df <- df %>% filter(MUNICIPALITY != 'QUEENSBURY')\n",
    "df"
   ]
  },
  {
   "cell_type": "code",
   "execution_count": 7,
   "metadata": {},
   "outputs": [
    {
     "name": "stdout",
     "output_type": "stream",
     "text": [
      "# A tibble: 5 × 2\n",
      "  MUNICIPALITY      n\n",
      "  <chr>         <int>\n",
      "1 BROOKLYN       2027\n",
      "2 QUEENS         1552\n",
      "3 BRONX          1188\n",
      "4 STATEN ISLAND   344\n",
      "5 NEW YORK CITY   323\n"
     ]
    }
   ],
   "source": [
    "%%R \n",
    "\n",
    "# code for summary statistics\n",
    "# count the number of entries in each MUNICIPALITY\n",
    "df %>% \n",
    "  group_by(MUNICIPALITY) %>% \n",
    "  summarise(n = n()) %>% \n",
    "  arrange(desc(n)) \n"
   ]
  },
  {
   "cell_type": "code",
   "execution_count": null,
   "metadata": {},
   "outputs": [],
   "source": [
    "%%R\n",
    "\n",
    "discrete_variables <- c('vs', 'am', 'gear', 'carb')\n",
    "# 👉 Select the discrete variables only and make a pivot table for each\n",
    "# so we know how many cars there are in each category (for example, how many automatic vs manual)?\n",
    "\n",
    "mtcars %>% \n",
    "    select(discrete_variables) %>%\n",
    "    pivot_longer(discrete_variables, names_to = \"variable\", values_to = \"value\") %>% \n",
    "    group_by(variable, value) %>% \n",
    "    summarize(\n",
    "        count = n()\n",
    "    )"
   ]
  },
  {
   "cell_type": "markdown",
   "metadata": {},
   "source": [
    "## 1-D visualizations (aka distributions)\n",
    "\n",
    "\n",
    "### Continus variables\n",
    "\n",
    "For each continuous variable you are interested in, use ggplot to make a plot of the distribution. You can use histograms, dot plots, box plots, beeswarms, etc...(whichever chart type you found most useful). Learn about that variable and give each chart a headline that explains what you're seeing. The chart can also show the mean or median of the variable for reference (for example for a histogram you can add a vertical line through the median)."
   ]
  },
  {
   "cell_type": "code",
   "execution_count": null,
   "metadata": {},
   "outputs": [],
   "source": [
    "# code for plot 1\n",
    "# make sure to make a meaningful title and subtitle"
   ]
  },
  {
   "cell_type": "code",
   "execution_count": null,
   "metadata": {},
   "outputs": [],
   "source": [
    "# code for plot 2\n",
    "# make sure to make a meaningful title and subtitle"
   ]
  },
  {
   "cell_type": "code",
   "execution_count": null,
   "metadata": {},
   "outputs": [],
   "source": [
    "# code for plot 3\n",
    "# make sure to make a meaningful title and subtitle"
   ]
  },
  {
   "cell_type": "markdown",
   "metadata": {},
   "source": [
    "### Discrete Variables\n",
    "\n",
    "If there are any discrete variables you'd like to analyze, you can do that with charts here."
   ]
  },
  {
   "cell_type": "code",
   "execution_count": null,
   "metadata": {},
   "outputs": [],
   "source": [
    "# code for plot 1\n",
    "# make sure to make a meaningful title and subtitle"
   ]
  },
  {
   "cell_type": "code",
   "execution_count": null,
   "metadata": {},
   "outputs": [],
   "source": [
    "# code for plot 2\n",
    "# make sure to make a meaningful title and subtitle"
   ]
  },
  {
   "cell_type": "code",
   "execution_count": null,
   "metadata": {},
   "outputs": [],
   "source": [
    "# code for plot 3\n",
    "# make sure to make a meaningful title and subtitle"
   ]
  }
 ],
 "metadata": {
  "kernelspec": {
   "display_name": "Python 3",
   "language": "python",
   "name": "python3"
  },
  "language_info": {
   "codemirror_mode": {
    "name": "ipython",
    "version": 3
   },
   "file_extension": ".py",
   "mimetype": "text/x-python",
   "name": "python",
   "nbconvert_exporter": "python",
   "pygments_lexer": "ipython3",
   "version": "3.11.6"
  },
  "vscode": {
   "interpreter": {
    "hash": "34166945ca6cc351f9d38b360afe1a928411c84fd696a9e2d08d61ef3f7e4692"
   }
  }
 },
 "nbformat": 4,
 "nbformat_minor": 2
}
